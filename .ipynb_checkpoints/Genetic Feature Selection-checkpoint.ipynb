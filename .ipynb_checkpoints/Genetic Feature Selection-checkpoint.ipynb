{
 "cells": [
  {
   "cell_type": "code",
   "execution_count": 112,
   "metadata": {},
   "outputs": [],
   "source": [
    "import random\n",
    "from sklearn.model_selection import train_test_split\n",
    "import pandas as pd\n",
    "from sklearn.linear_model import LogisticRegression\n",
    "from sklearn import metrics"
   ]
  },
  {
   "cell_type": "code",
   "execution_count": 113,
   "metadata": {},
   "outputs": [],
   "source": [
    "class Model:\n",
    "    def __init__(self, model_id, binary_features):\n",
    "        self.model_id = model_id\n",
    "        self.binary_features = binary_features\n",
    "        self.error = None\n",
    "        self.fitness = None"
   ]
  },
  {
   "cell_type": "code",
   "execution_count": 114,
   "metadata": {},
   "outputs": [],
   "source": [
    "def initialization(feature_list, n_models, gen):\n",
    "    \"\"\" Initialize n models with 1 or 0 for each feature \"\"\"\n",
    "    model_list = []\n",
    "    for i in range(n_models):\n",
    "        model_id = f\"{gen}_{i}\"\n",
    "        binary_features = [random.getrandbits(1) for i in range(len(feature_list))]\n",
    "        model_list.append(Model(model_id, binary_features))\n",
    "    return model_list"
   ]
  },
  {
   "cell_type": "code",
   "execution_count": 129,
   "metadata": {},
   "outputs": [],
   "source": [
    "def fitness_assignment(model_list, input_data, feature_list):\n",
    "    \"\"\" Get the fitness of each model \"\"\"\n",
    "\n",
    "    for model_obj in model_list:\n",
    "        chosen_cols = [feat for feat,bin in zip(feature_list,model_obj.binary_features) if bin]\n",
    "        \n",
    "        X = input_data[chosen_cols] # Features\n",
    "        y = input_data.label # Target variable\n",
    "        # split X and y into training and testing sets\n",
    "        X_train,X_test,y_train,y_test=train_test_split(X,y,test_size=0.25,random_state=0)    \n",
    "\n",
    "        logreg = LogisticRegression(solver='lbfgs')\n",
    "\n",
    "        # fit the model with data\n",
    "        logreg.fit(X_train,y_train)\n",
    "\n",
    "        #\n",
    "        y_pred=logreg.predict(X_test)\n",
    "\n",
    "\n",
    "        y_pred_proba = logreg.predict_proba(X_test)[::,1]\n",
    "        fpr, tpr, _ = metrics.roc_curve(y_test,  y_pred_proba)\n",
    "        auc = metrics.roc_auc_score(y_test, y_pred_proba)\n",
    "        \n",
    "        model_obj.error = 1-auc\n",
    "\n",
    "    # Selective pressure (between 1 and 2)\n",
    "    k = 1.5\n",
    "    # Highest error first\n",
    "    model_list.sort(key=lambda x: x.error, reverse=True)\n",
    "    # Assign each model the fitness corresponding to the rank\n",
    "    for rank, model_obj in enumerate(model_list):\n",
    "        model_obj.fitness = k*rank\n",
    "    \n",
    "    model_list.sort(key=lambda x: x.fitness, reverse=True)\n",
    "    \n",
    "    return model_list"
   ]
  },
  {
   "cell_type": "code",
   "execution_count": 130,
   "metadata": {},
   "outputs": [],
   "source": [
    "def weighted_random_choice(model_list):\n",
    "    \"\"\" Randomly pick a model, giving precedent to those with higher fitness \"\"\"\n",
    "    max = sum(model.fitness for model in model_list)\n",
    "    pick = random.uniform(0, max)\n",
    "    current = 0\n",
    "    for model in model_list:\n",
    "        current += model.fitness\n",
    "        if current > pick:\n",
    "            return model"
   ]
  },
  {
   "cell_type": "code",
   "execution_count": 131,
   "metadata": {},
   "outputs": [],
   "source": [
    "def selection(N, model_list):\n",
    "    \"\"\" Select N/2 individuals according to fitness. Assumes model_list has highest fitness first \"\"\"\n",
    "    elitism = 1\n",
    "    n_selected_individuals = N/2\n",
    "    selected_individuals = []\n",
    "    # First select elite individuals\n",
    "    for i in range(elitism):\n",
    "        selected_individuals.append(model_list[i])\n",
    "    \n",
    "    # Then select individuals randomly based on their proportion of fit\n",
    "    fitness_list = None\n",
    "    \n",
    "    for i in range(round(n_selected_individuals - elitism)):\n",
    "        selected_model = weighted_random_choice(model_list)\n",
    "#         print(f\"Selected Model Error: {selected_model.error}\")\n",
    "        selected_individuals.append(selected_model)\n",
    "        \n",
    "    return selected_individuals"
   ]
  },
  {
   "cell_type": "code",
   "execution_count": 132,
   "metadata": {},
   "outputs": [],
   "source": [
    "def compute_crossover(parent_models):\n",
    "    \"\"\" Computes the actual crossover of features \"\"\"\n",
    "    parent_features = [(a,b) for a,b in zip(parent_models[0].binary_features, \n",
    "                                            parent_models[1].binary_features)]\n",
    "    output_features = []\n",
    "    for feature in parent_features:\n",
    "        pick = random.uniform(0, 1)\n",
    "        output_features.append(feature[0] if pick < 0.5 else feature[1])\n",
    "#     print(f\"Left Parent: {parent_models[0].binary_features}, Right Parent: {parent_models[1].binary_features}\")\n",
    "#     print(f\"Child: {output_features}\")\n",
    "    return output_features"
   ]
  },
  {
   "cell_type": "code",
   "execution_count": 133,
   "metadata": {},
   "outputs": [],
   "source": [
    "def crossover(model_list, N, gen):\n",
    "    \"\"\" Creates children models from parents \"\"\"\n",
    "    parent_models = random.sample(model_list, 2)\n",
    "    child_models = []\n",
    "    for i in range(N):\n",
    "        new_features = compute_crossover(parent_models)\n",
    "        model_id = f\"{gen}_{i}\"\n",
    "        child_models.append(Model(model_id, new_features))\n",
    "    return child_models"
   ]
  },
  {
   "cell_type": "code",
   "execution_count": 134,
   "metadata": {},
   "outputs": [],
   "source": [
    "def mutation(model_list):\n",
    "    \"\"\" Mutates one gene of each model \"\"\"\n",
    "    feature_len = len(model_list[0].binary_features)\n",
    "    mutation_rate = 1/feature_len\n",
    "    for model_obj in model_list:\n",
    "        new_binary_features = []\n",
    "#         print(model_obj.model_id)\n",
    "        for feature in model_obj.binary_features:\n",
    "            pick = random.uniform(0, 1)\n",
    "#             print(f\"Pick: {pick}\")\n",
    "#             print(f\"mutation_rate {mutation_rate}\")\n",
    "            if pick < mutation_rate:\n",
    "                new_fetaure = int(not feature)\n",
    "#                 print(f\"Old: {feature}, New: {new_fetaure}\")\n",
    "                new_binary_features.append(new_fetaure)\n",
    "            else:\n",
    "#                 print(\"\\t PASS\")\n",
    "                new_binary_features.append(feature)\n",
    "#         print(f\"Old: {model_obj.binary_features}, New: {new_binary_features}\")\n",
    "        model_obj.binary_features = new_binary_features\n",
    "    return model_list"
   ]
  },
  {
   "cell_type": "code",
   "execution_count": 135,
   "metadata": {},
   "outputs": [],
   "source": [
    "def test_functions():\n",
    "    \n",
    "    print(\"\\nTest Initialisation\\n\")\n",
    "    for model_obj in initialization([\"a\",\"b\",\"c\"],4, 0):\n",
    "        print(model_obj.binary_features)\n",
    "    \n",
    "    \n",
    "    print(\"\\nTest Selection\\n\")\n",
    "    model_one = Model(\"0_1\",[0,1,1])\n",
    "    model_two = Model(\"0_2\",[1,0,1])\n",
    "    model_three = Model(\"0_3\",[0,0,1])\n",
    "    model_four = Model(\"0_4\",[1,0,0])\n",
    "    setattr(model_one, \"fitness\", 0.2)\n",
    "    setattr(model_two, \"fitness\", 0.4)\n",
    "    setattr(model_three, \"fitness\", 0.6)\n",
    "    setattr(model_four, \"fitness\", 0.8)\n",
    "    selected_models = selection(4, [model_one, model_two, model_three, model_four])\n",
    "    for model_obj in selected_models:\n",
    "        print(model_obj.binary_features)\n",
    "        \n",
    "    model_list = [Model(\"0_1\",[1,1,1]),Model(\"0_2\",[0,0,0])]\n",
    "    \n",
    "    print(\"\\nTest Crossover\\n\")\n",
    "    child_models = crossover(model_list, 4, 1)\n",
    "    for model_obj in child_models:\n",
    "        print(model_obj.binary_features)\n",
    "  \n",
    "    print(\"\\nTest Mutation\\n\")\n",
    "    mutated_models = mutation(model_list)\n",
    "    for model_obj in mutated_models:\n",
    "        print(model_obj.binary_features)"
   ]
  },
  {
   "cell_type": "code",
   "execution_count": 136,
   "metadata": {},
   "outputs": [
    {
     "name": "stdout",
     "output_type": "stream",
     "text": [
      "\n",
      "Test Initialisation\n",
      "\n",
      "[0, 1, 1]\n",
      "[1, 1, 0]\n",
      "[0, 0, 0]\n",
      "[1, 1, 0]\n",
      "\n",
      "Test Selection\n",
      "\n",
      "[0, 1, 1]\n",
      "[0, 0, 1]\n",
      "\n",
      "Test Crossover\n",
      "\n",
      "[1, 0, 1]\n",
      "[0, 0, 1]\n",
      "[0, 0, 1]\n",
      "[0, 1, 1]\n",
      "\n",
      "Test Mutation\n",
      "\n",
      "[1, 1, 0]\n",
      "[0, 0, 0]\n"
     ]
    }
   ],
   "source": [
    "test_functions()"
   ]
  },
  {
   "cell_type": "code",
   "execution_count": 137,
   "metadata": {},
   "outputs": [],
   "source": [
    "def run_feature_selection():\n",
    "    \"\"\" Run the feature selection algorithm \"\"\"\n",
    "    col_names = ['pregnant', 'glucose', 'bp', 'skin', 'insulin', 'bmi', 'pedigree', 'age', 'label']\n",
    "    # load dataset\n",
    "    diabetes = pd.read_csv(\"diabetes.csv\", header=0, names=col_names)\n",
    "    feature_list = ['pregnant', 'glucose', 'bp', 'skin', 'insulin', 'bmi', 'pedigree', 'age']\n",
    "\n",
    "    n_models = 4\n",
    "    model_list = initialization(feature_list, n_models, 0)\n",
    "    generations = 100\n",
    "    model_errors = [[model_obj.error for model_obj in model_list]]\n",
    "    for gen in range(generations):\n",
    "        print(f\"Gen: {gen}\")\n",
    "        model_list = fitness_assignment(model_list, diabetes, feature_list)\n",
    "        model_list = selection(n_models, model_list)\n",
    "        model_list = crossover(model_list, n_models, gen)\n",
    "        model_list = mutation(model_list)\n",
    "        model_errors.append([model_obj.error for model_obj in model_list])\n",
    "    print(model_errors)"
   ]
  },
  {
   "cell_type": "code",
   "execution_count": 138,
   "metadata": {
    "scrolled": true
   },
   "outputs": [
    {
     "name": "stdout",
     "output_type": "stream",
     "text": [
      "Gen: 0\n",
      "Gen: 1\n",
      "Gen: 2\n",
      "Gen: 3\n"
     ]
    },
    {
     "name": "stderr",
     "output_type": "stream",
     "text": [
      "C:\\Users\\Graeme.crawley\\AppData\\Local\\Continuum\\anaconda3\\lib\\site-packages\\sklearn\\linear_model\\logistic.py:947: ConvergenceWarning: lbfgs failed to converge. Increase the number of iterations.\n",
      "  \"of iterations.\", ConvergenceWarning)\n",
      "C:\\Users\\Graeme.crawley\\AppData\\Local\\Continuum\\anaconda3\\lib\\site-packages\\sklearn\\linear_model\\logistic.py:947: ConvergenceWarning: lbfgs failed to converge. Increase the number of iterations.\n",
      "  \"of iterations.\", ConvergenceWarning)\n",
      "C:\\Users\\Graeme.crawley\\AppData\\Local\\Continuum\\anaconda3\\lib\\site-packages\\sklearn\\linear_model\\logistic.py:947: ConvergenceWarning: lbfgs failed to converge. Increase the number of iterations.\n",
      "  \"of iterations.\", ConvergenceWarning)\n",
      "C:\\Users\\Graeme.crawley\\AppData\\Local\\Continuum\\anaconda3\\lib\\site-packages\\sklearn\\linear_model\\logistic.py:947: ConvergenceWarning: lbfgs failed to converge. Increase the number of iterations.\n",
      "  \"of iterations.\", ConvergenceWarning)\n",
      "C:\\Users\\Graeme.crawley\\AppData\\Local\\Continuum\\anaconda3\\lib\\site-packages\\sklearn\\linear_model\\logistic.py:947: ConvergenceWarning: lbfgs failed to converge. Increase the number of iterations.\n",
      "  \"of iterations.\", ConvergenceWarning)\n"
     ]
    },
    {
     "name": "stdout",
     "output_type": "stream",
     "text": [
      "Gen: 4\n",
      "Gen: 5\n",
      "Gen: 6\n"
     ]
    },
    {
     "name": "stderr",
     "output_type": "stream",
     "text": [
      "C:\\Users\\Graeme.crawley\\AppData\\Local\\Continuum\\anaconda3\\lib\\site-packages\\sklearn\\linear_model\\logistic.py:947: ConvergenceWarning: lbfgs failed to converge. Increase the number of iterations.\n",
      "  \"of iterations.\", ConvergenceWarning)\n",
      "C:\\Users\\Graeme.crawley\\AppData\\Local\\Continuum\\anaconda3\\lib\\site-packages\\sklearn\\linear_model\\logistic.py:947: ConvergenceWarning: lbfgs failed to converge. Increase the number of iterations.\n",
      "  \"of iterations.\", ConvergenceWarning)\n",
      "C:\\Users\\Graeme.crawley\\AppData\\Local\\Continuum\\anaconda3\\lib\\site-packages\\sklearn\\linear_model\\logistic.py:947: ConvergenceWarning: lbfgs failed to converge. Increase the number of iterations.\n",
      "  \"of iterations.\", ConvergenceWarning)\n",
      "C:\\Users\\Graeme.crawley\\AppData\\Local\\Continuum\\anaconda3\\lib\\site-packages\\sklearn\\linear_model\\logistic.py:947: ConvergenceWarning: lbfgs failed to converge. Increase the number of iterations.\n",
      "  \"of iterations.\", ConvergenceWarning)\n",
      "C:\\Users\\Graeme.crawley\\AppData\\Local\\Continuum\\anaconda3\\lib\\site-packages\\sklearn\\linear_model\\logistic.py:947: ConvergenceWarning: lbfgs failed to converge. Increase the number of iterations.\n",
      "  \"of iterations.\", ConvergenceWarning)\n"
     ]
    },
    {
     "name": "stdout",
     "output_type": "stream",
     "text": [
      "Gen: 7\n",
      "Gen: 8"
     ]
    },
    {
     "name": "stderr",
     "output_type": "stream",
     "text": [
      "C:\\Users\\Graeme.crawley\\AppData\\Local\\Continuum\\anaconda3\\lib\\site-packages\\sklearn\\linear_model\\logistic.py:947: ConvergenceWarning: lbfgs failed to converge. Increase the number of iterations.\n",
      "  \"of iterations.\", ConvergenceWarning)\n",
      "C:\\Users\\Graeme.crawley\\AppData\\Local\\Continuum\\anaconda3\\lib\\site-packages\\sklearn\\linear_model\\logistic.py:947: ConvergenceWarning: lbfgs failed to converge. Increase the number of iterations.\n",
      "  \"of iterations.\", ConvergenceWarning)\n"
     ]
    },
    {
     "name": "stdout",
     "output_type": "stream",
     "text": [
      "\n",
      "Gen: 9\n",
      "Gen: 10\n",
      "Gen: 11\n",
      "Gen: 12\n",
      "Gen: 13\n",
      "Gen: 14\n",
      "Gen: 15\n",
      "Gen: 16\n",
      "Gen: 17\n",
      "Gen: 18\n",
      "Gen: 19\n",
      "Gen: 20\n",
      "Gen: 21\n",
      "Gen: 22\n",
      "Gen: 23\n"
     ]
    },
    {
     "name": "stderr",
     "output_type": "stream",
     "text": [
      "C:\\Users\\Graeme.crawley\\AppData\\Local\\Continuum\\anaconda3\\lib\\site-packages\\sklearn\\linear_model\\logistic.py:947: ConvergenceWarning: lbfgs failed to converge. Increase the number of iterations.\n",
      "  \"of iterations.\", ConvergenceWarning)\n"
     ]
    },
    {
     "name": "stdout",
     "output_type": "stream",
     "text": [
      "Gen: 24\n",
      "Gen: 25\n",
      "Gen: 26\n",
      "Gen: 27\n",
      "Gen: 28\n",
      "Gen: 29\n",
      "Gen: 30\n",
      "Gen: 31\n",
      "Gen: 32\n",
      "Gen: 33\n",
      "Gen: 34\n",
      "Gen: 35\n",
      "Gen: 36\n",
      "Gen: 37\n",
      "Gen: 38\n",
      "Gen: 39\n",
      "Gen: 40\n"
     ]
    },
    {
     "name": "stderr",
     "output_type": "stream",
     "text": [
      "C:\\Users\\Graeme.crawley\\AppData\\Local\\Continuum\\anaconda3\\lib\\site-packages\\sklearn\\linear_model\\logistic.py:947: ConvergenceWarning: lbfgs failed to converge. Increase the number of iterations.\n",
      "  \"of iterations.\", ConvergenceWarning)\n",
      "C:\\Users\\Graeme.crawley\\AppData\\Local\\Continuum\\anaconda3\\lib\\site-packages\\sklearn\\linear_model\\logistic.py:947: ConvergenceWarning: lbfgs failed to converge. Increase the number of iterations.\n",
      "  \"of iterations.\", ConvergenceWarning)\n",
      "C:\\Users\\Graeme.crawley\\AppData\\Local\\Continuum\\anaconda3\\lib\\site-packages\\sklearn\\linear_model\\logistic.py:947: ConvergenceWarning: lbfgs failed to converge. Increase the number of iterations.\n",
      "  \"of iterations.\", ConvergenceWarning)\n"
     ]
    },
    {
     "name": "stdout",
     "output_type": "stream",
     "text": [
      "Gen: 41\n",
      "Gen: 42\n",
      "Gen: 43\n",
      "Gen: 44"
     ]
    },
    {
     "name": "stderr",
     "output_type": "stream",
     "text": [
      "C:\\Users\\Graeme.crawley\\AppData\\Local\\Continuum\\anaconda3\\lib\\site-packages\\sklearn\\linear_model\\logistic.py:947: ConvergenceWarning: lbfgs failed to converge. Increase the number of iterations.\n",
      "  \"of iterations.\", ConvergenceWarning)\n",
      "C:\\Users\\Graeme.crawley\\AppData\\Local\\Continuum\\anaconda3\\lib\\site-packages\\sklearn\\linear_model\\logistic.py:947: ConvergenceWarning: lbfgs failed to converge. Increase the number of iterations.\n",
      "  \"of iterations.\", ConvergenceWarning)\n",
      "C:\\Users\\Graeme.crawley\\AppData\\Local\\Continuum\\anaconda3\\lib\\site-packages\\sklearn\\linear_model\\logistic.py:947: ConvergenceWarning: lbfgs failed to converge. Increase the number of iterations.\n",
      "  \"of iterations.\", ConvergenceWarning)\n"
     ]
    },
    {
     "name": "stdout",
     "output_type": "stream",
     "text": [
      "\n",
      "Gen: 45\n"
     ]
    },
    {
     "name": "stderr",
     "output_type": "stream",
     "text": [
      "C:\\Users\\Graeme.crawley\\AppData\\Local\\Continuum\\anaconda3\\lib\\site-packages\\sklearn\\linear_model\\logistic.py:947: ConvergenceWarning: lbfgs failed to converge. Increase the number of iterations.\n",
      "  \"of iterations.\", ConvergenceWarning)\n",
      "C:\\Users\\Graeme.crawley\\AppData\\Local\\Continuum\\anaconda3\\lib\\site-packages\\sklearn\\linear_model\\logistic.py:947: ConvergenceWarning: lbfgs failed to converge. Increase the number of iterations.\n",
      "  \"of iterations.\", ConvergenceWarning)\n"
     ]
    },
    {
     "name": "stdout",
     "output_type": "stream",
     "text": [
      "Gen: 46\n",
      "Gen: 47\n"
     ]
    },
    {
     "name": "stderr",
     "output_type": "stream",
     "text": [
      "C:\\Users\\Graeme.crawley\\AppData\\Local\\Continuum\\anaconda3\\lib\\site-packages\\sklearn\\linear_model\\logistic.py:947: ConvergenceWarning: lbfgs failed to converge. Increase the number of iterations.\n",
      "  \"of iterations.\", ConvergenceWarning)\n",
      "C:\\Users\\Graeme.crawley\\AppData\\Local\\Continuum\\anaconda3\\lib\\site-packages\\sklearn\\linear_model\\logistic.py:947: ConvergenceWarning: lbfgs failed to converge. Increase the number of iterations.\n",
      "  \"of iterations.\", ConvergenceWarning)\n",
      "C:\\Users\\Graeme.crawley\\AppData\\Local\\Continuum\\anaconda3\\lib\\site-packages\\sklearn\\linear_model\\logistic.py:947: ConvergenceWarning: lbfgs failed to converge. Increase the number of iterations.\n",
      "  \"of iterations.\", ConvergenceWarning)\n",
      "C:\\Users\\Graeme.crawley\\AppData\\Local\\Continuum\\anaconda3\\lib\\site-packages\\sklearn\\linear_model\\logistic.py:947: ConvergenceWarning: lbfgs failed to converge. Increase the number of iterations.\n",
      "  \"of iterations.\", ConvergenceWarning)\n"
     ]
    },
    {
     "name": "stdout",
     "output_type": "stream",
     "text": [
      "Gen: 48\n",
      "Gen: 49"
     ]
    },
    {
     "name": "stderr",
     "output_type": "stream",
     "text": [
      "C:\\Users\\Graeme.crawley\\AppData\\Local\\Continuum\\anaconda3\\lib\\site-packages\\sklearn\\linear_model\\logistic.py:947: ConvergenceWarning: lbfgs failed to converge. Increase the number of iterations.\n",
      "  \"of iterations.\", ConvergenceWarning)\n",
      "C:\\Users\\Graeme.crawley\\AppData\\Local\\Continuum\\anaconda3\\lib\\site-packages\\sklearn\\linear_model\\logistic.py:947: ConvergenceWarning: lbfgs failed to converge. Increase the number of iterations.\n",
      "  \"of iterations.\", ConvergenceWarning)\n",
      "C:\\Users\\Graeme.crawley\\AppData\\Local\\Continuum\\anaconda3\\lib\\site-packages\\sklearn\\linear_model\\logistic.py:947: ConvergenceWarning: lbfgs failed to converge. Increase the number of iterations.\n",
      "  \"of iterations.\", ConvergenceWarning)\n"
     ]
    },
    {
     "name": "stdout",
     "output_type": "stream",
     "text": [
      "\n",
      "Gen: 50\n",
      "Gen: 51\n"
     ]
    },
    {
     "name": "stderr",
     "output_type": "stream",
     "text": [
      "C:\\Users\\Graeme.crawley\\AppData\\Local\\Continuum\\anaconda3\\lib\\site-packages\\sklearn\\linear_model\\logistic.py:947: ConvergenceWarning: lbfgs failed to converge. Increase the number of iterations.\n",
      "  \"of iterations.\", ConvergenceWarning)\n",
      "C:\\Users\\Graeme.crawley\\AppData\\Local\\Continuum\\anaconda3\\lib\\site-packages\\sklearn\\linear_model\\logistic.py:947: ConvergenceWarning: lbfgs failed to converge. Increase the number of iterations.\n",
      "  \"of iterations.\", ConvergenceWarning)\n",
      "C:\\Users\\Graeme.crawley\\AppData\\Local\\Continuum\\anaconda3\\lib\\site-packages\\sklearn\\linear_model\\logistic.py:947: ConvergenceWarning: lbfgs failed to converge. Increase the number of iterations.\n",
      "  \"of iterations.\", ConvergenceWarning)\n",
      "C:\\Users\\Graeme.crawley\\AppData\\Local\\Continuum\\anaconda3\\lib\\site-packages\\sklearn\\linear_model\\logistic.py:947: ConvergenceWarning: lbfgs failed to converge. Increase the number of iterations.\n",
      "  \"of iterations.\", ConvergenceWarning)\n"
     ]
    },
    {
     "name": "stdout",
     "output_type": "stream",
     "text": [
      "Gen: 52\n",
      "Gen: 53\n",
      "Gen: 54\n",
      "Gen: 55\n"
     ]
    },
    {
     "name": "stderr",
     "output_type": "stream",
     "text": [
      "C:\\Users\\Graeme.crawley\\AppData\\Local\\Continuum\\anaconda3\\lib\\site-packages\\sklearn\\linear_model\\logistic.py:947: ConvergenceWarning: lbfgs failed to converge. Increase the number of iterations.\n",
      "  \"of iterations.\", ConvergenceWarning)\n"
     ]
    },
    {
     "name": "stdout",
     "output_type": "stream",
     "text": [
      "Gen: 56\n",
      "Gen: 57\n",
      "Gen: 58\n",
      "Gen: 59\n",
      "Gen: 60\n",
      "Gen: 61\n",
      "Gen: 62\n",
      "Gen: 63\n",
      "Gen: 64\n",
      "Gen: 65\n"
     ]
    },
    {
     "name": "stderr",
     "output_type": "stream",
     "text": [
      "C:\\Users\\Graeme.crawley\\AppData\\Local\\Continuum\\anaconda3\\lib\\site-packages\\sklearn\\linear_model\\logistic.py:947: ConvergenceWarning: lbfgs failed to converge. Increase the number of iterations.\n",
      "  \"of iterations.\", ConvergenceWarning)\n"
     ]
    },
    {
     "name": "stdout",
     "output_type": "stream",
     "text": [
      "Gen: 66\n",
      "Gen: 67\n",
      "Gen: 68\n",
      "Gen: 69\n",
      "Gen: 70\n",
      "Gen: 71\n",
      "Gen: 72\n",
      "Gen: 73\n",
      "Gen: 74\n",
      "Gen: 75\n"
     ]
    },
    {
     "name": "stderr",
     "output_type": "stream",
     "text": [
      "C:\\Users\\Graeme.crawley\\AppData\\Local\\Continuum\\anaconda3\\lib\\site-packages\\sklearn\\linear_model\\logistic.py:947: ConvergenceWarning: lbfgs failed to converge. Increase the number of iterations.\n",
      "  \"of iterations.\", ConvergenceWarning)\n",
      "C:\\Users\\Graeme.crawley\\AppData\\Local\\Continuum\\anaconda3\\lib\\site-packages\\sklearn\\linear_model\\logistic.py:947: ConvergenceWarning: lbfgs failed to converge. Increase the number of iterations.\n",
      "  \"of iterations.\", ConvergenceWarning)\n"
     ]
    },
    {
     "name": "stdout",
     "output_type": "stream",
     "text": [
      "Gen: 76\n",
      "Gen: 77\n"
     ]
    },
    {
     "name": "stderr",
     "output_type": "stream",
     "text": [
      "C:\\Users\\Graeme.crawley\\AppData\\Local\\Continuum\\anaconda3\\lib\\site-packages\\sklearn\\linear_model\\logistic.py:947: ConvergenceWarning: lbfgs failed to converge. Increase the number of iterations.\n",
      "  \"of iterations.\", ConvergenceWarning)\n"
     ]
    },
    {
     "name": "stdout",
     "output_type": "stream",
     "text": [
      "Gen: 78\n",
      "Gen: 79\n",
      "Gen: 80\n",
      "Gen: 81\n"
     ]
    },
    {
     "name": "stderr",
     "output_type": "stream",
     "text": [
      "C:\\Users\\Graeme.crawley\\AppData\\Local\\Continuum\\anaconda3\\lib\\site-packages\\sklearn\\linear_model\\logistic.py:947: ConvergenceWarning: lbfgs failed to converge. Increase the number of iterations.\n",
      "  \"of iterations.\", ConvergenceWarning)\n"
     ]
    },
    {
     "name": "stdout",
     "output_type": "stream",
     "text": [
      "Gen: 82\n",
      "Gen: 83\n",
      "Gen: 84\n",
      "Gen: 85\n",
      "Gen: 86\n",
      "Gen: 87\n",
      "Gen: 88\n",
      "Gen: 89\n",
      "Gen: 90\n",
      "Gen: 91\n",
      "Gen: 92\n"
     ]
    },
    {
     "name": "stderr",
     "output_type": "stream",
     "text": [
      "C:\\Users\\Graeme.crawley\\AppData\\Local\\Continuum\\anaconda3\\lib\\site-packages\\sklearn\\linear_model\\logistic.py:947: ConvergenceWarning: lbfgs failed to converge. Increase the number of iterations.\n",
      "  \"of iterations.\", ConvergenceWarning)\n"
     ]
    },
    {
     "name": "stdout",
     "output_type": "stream",
     "text": [
      "Gen: 93\n",
      "Gen: 94\n",
      "Gen: 95\n",
      "Gen: 96\n",
      "Gen: 97\n",
      "Gen: 98\n"
     ]
    },
    {
     "name": "stderr",
     "output_type": "stream",
     "text": [
      "C:\\Users\\Graeme.crawley\\AppData\\Local\\Continuum\\anaconda3\\lib\\site-packages\\sklearn\\linear_model\\logistic.py:947: ConvergenceWarning: lbfgs failed to converge. Increase the number of iterations.\n",
      "  \"of iterations.\", ConvergenceWarning)\n"
     ]
    },
    {
     "name": "stdout",
     "output_type": "stream",
     "text": [
      "Gen: 99\n",
      "[[None, None, None, None], [None, None, None, None], [None, None, None, None], [None, None, None, None], [None, None, None, None], [None, None, None, None], [None, None, None, None], [None, None, None, None], [None, None, None, None], [None, None, None, None], [None, None, None, None], [None, None, None, None], [None, None, None, None], [None, None, None, None], [None, None, None, None], [None, None, None, None], [None, None, None, None], [None, None, None, None], [None, None, None, None], [None, None, None, None], [None, None, None, None], [None, None, None, None], [None, None, None, None], [None, None, None, None], [None, None, None, None], [None, None, None, None], [None, None, None, None], [None, None, None, None], [None, None, None, None], [None, None, None, None], [None, None, None, None], [None, None, None, None], [None, None, None, None], [None, None, None, None], [None, None, None, None], [None, None, None, None], [None, None, None, None], [None, None, None, None], [None, None, None, None], [None, None, None, None], [None, None, None, None], [None, None, None, None], [None, None, None, None], [None, None, None, None], [None, None, None, None], [None, None, None, None], [None, None, None, None], [None, None, None, None], [None, None, None, None], [None, None, None, None], [None, None, None, None], [None, None, None, None], [None, None, None, None], [None, None, None, None], [None, None, None, None], [None, None, None, None], [None, None, None, None], [None, None, None, None], [None, None, None, None], [None, None, None, None], [None, None, None, None], [None, None, None, None], [None, None, None, None], [None, None, None, None], [None, None, None, None], [None, None, None, None], [None, None, None, None], [None, None, None, None], [None, None, None, None], [None, None, None, None], [None, None, None, None], [None, None, None, None], [None, None, None, None], [None, None, None, None], [None, None, None, None], [None, None, None, None], [None, None, None, None], [None, None, None, None], [None, None, None, None], [None, None, None, None], [None, None, None, None], [None, None, None, None], [None, None, None, None], [None, None, None, None], [None, None, None, None], [None, None, None, None], [None, None, None, None], [None, None, None, None], [None, None, None, None], [None, None, None, None], [None, None, None, None], [None, None, None, None], [None, None, None, None], [None, None, None, None], [None, None, None, None], [None, None, None, None], [None, None, None, None], [None, None, None, None], [None, None, None, None], [None, None, None, None], [None, None, None, None]]\n"
     ]
    }
   ],
   "source": [
    "run_feature_selection()"
   ]
  },
  {
   "cell_type": "code",
   "execution_count": null,
   "metadata": {},
   "outputs": [],
   "source": []
  }
 ],
 "metadata": {
  "kernelspec": {
   "display_name": "Python 3",
   "language": "python",
   "name": "python3"
  },
  "language_info": {
   "codemirror_mode": {
    "name": "ipython",
    "version": 3
   },
   "file_extension": ".py",
   "mimetype": "text/x-python",
   "name": "python",
   "nbconvert_exporter": "python",
   "pygments_lexer": "ipython3",
   "version": "3.7.4"
  }
 },
 "nbformat": 4,
 "nbformat_minor": 2
}
